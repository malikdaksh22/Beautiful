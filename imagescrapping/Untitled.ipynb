{
 "cells": [
  {
   "cell_type": "code",
   "execution_count": 1,
   "id": "553d12b6",
   "metadata": {},
   "outputs": [],
   "source": [
    "from bs4 import BeautifulSoup as soup\n",
    "import requests"
   ]
  },
  {
   "cell_type": "markdown",
   "id": "a477640d",
   "metadata": {},
   "source": [
    "Getting Html page for site using request library"
   ]
  },
  {
   "cell_type": "code",
   "execution_count": 2,
   "id": "2a6ce045",
   "metadata": {},
   "outputs": [],
   "source": [
    "url=\"https://www.passiton.com/inspirational-quotes\"\n",
    "q=requests.get(url)\n"
   ]
  },
  {
   "cell_type": "markdown",
   "id": "d8f6adcc",
   "metadata": {},
   "source": [
    "Concerting binary html file into soup object"
   ]
  },
  {
   "cell_type": "code",
   "execution_count": 3,
   "id": "1d768eaf",
   "metadata": {},
   "outputs": [],
   "source": [
    "soupobj=soup(q.content)"
   ]
  },
  {
   "cell_type": "markdown",
   "id": "5fb93cfa",
   "metadata": {},
   "source": [
    "Getting all links from image tags by parsing that soup objects"
   ]
  },
  {
   "cell_type": "code",
   "execution_count": 22,
   "id": "353939af",
   "metadata": {},
   "outputs": [],
   "source": [
    "imagelist=list(soupobj.findAll(\"div\",attrs={\"id\":\"all_quotes\"})[0].findAll(\"img\"))"
   ]
  },
  {
   "cell_type": "code",
   "execution_count": 29,
   "id": "440d4c3b",
   "metadata": {},
   "outputs": [],
   "source": [
    "imagelinks=list(map(lambda x:x[\"src\"],imagelist))"
   ]
  },
  {
   "cell_type": "code",
   "execution_count": 31,
   "id": "15865927",
   "metadata": {},
   "outputs": [
    {
     "name": "stdout",
     "output_type": "stream",
     "text": [
      "https://assets.passiton.com/quotes/quote_artwork/5831/medium/20210809_monday_quote.jpg?1628114140\n"
     ]
    }
   ],
   "source": [
    "print(imagelinks[0])"
   ]
  },
  {
   "cell_type": "markdown",
   "id": "db98a8ec",
   "metadata": {},
   "source": [
    "Fetching and save all images in our current directory"
   ]
  },
  {
   "cell_type": "code",
   "execution_count": 33,
   "id": "1bf2e504",
   "metadata": {},
   "outputs": [],
   "source": [
    "for (i,url) in enumerate(imagelinks):\n",
    "    with open(\"inspirational{}.jpg\".format(i),\"wb\") as file:\n",
    "        img=requests.get(url)\n",
    "        file.write(img.content)"
   ]
  }
 ],
 "metadata": {
  "kernelspec": {
   "display_name": "Python 3 (ipykernel)",
   "language": "python",
   "name": "python3"
  },
  "language_info": {
   "codemirror_mode": {
    "name": "ipython",
    "version": 3
   },
   "file_extension": ".py",
   "mimetype": "text/x-python",
   "name": "python",
   "nbconvert_exporter": "python",
   "pygments_lexer": "ipython3",
   "version": "3.7.3"
  }
 },
 "nbformat": 4,
 "nbformat_minor": 5
}
