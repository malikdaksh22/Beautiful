{
 "cells": [
  {
   "cell_type": "markdown",
   "id": "a7afe52b",
   "metadata": {},
   "source": [
    "## By Daksh malik"
   ]
  },
  {
   "cell_type": "markdown",
   "id": "6f155a05",
   "metadata": {
    "scrolled": true
   },
   "source": [
    "Site Link which we are going to scrap\n",
    "https://en.wikipedia.org/wiki/Android_version_history"
   ]
  },
  {
   "cell_type": "markdown",
   "id": "a094cd4d",
   "metadata": {},
   "source": [
    "importing libraries for scrapping"
   ]
  },
  {
   "cell_type": "code",
   "execution_count": 8,
   "id": "e20f2d0e",
   "metadata": {},
   "outputs": [],
   "source": [
    "from bs4 import BeautifulSoup as soup\n",
    "import requests"
   ]
  },
  {
   "cell_type": "code",
   "execution_count": 9,
   "id": "c8bb0f45",
   "metadata": {},
   "outputs": [],
   "source": [
    "page=requests.get(\"https://en.wikipedia.org/wiki/Android_version_history\")"
   ]
  },
  {
   "cell_type": "code",
   "execution_count": 10,
   "id": "325c21f3",
   "metadata": {},
   "outputs": [],
   "source": [
    "so=soup(page.content,'html.parser')"
   ]
  },
  {
   "cell_type": "code",
   "execution_count": 11,
   "id": "3e9b18ac",
   "metadata": {},
   "outputs": [],
   "source": [
    "android_table=so.find_all(\"table\",{\"class\":\"wikitable\"})"
   ]
  },
  {
   "cell_type": "code",
   "execution_count": 55,
   "id": "077fea75",
   "metadata": {},
   "outputs": [
    {
     "name": "stdout",
     "output_type": "stream",
     "text": [
      "32\n"
     ]
    }
   ],
   "source": [
    "print(len(android_table))"
   ]
  },
  {
   "cell_type": "code",
   "execution_count": 13,
   "id": "a412b843",
   "metadata": {},
   "outputs": [],
   "source": [
    "android_rows=android_table[0].find_all('tr',{})"
   ]
  },
  {
   "cell_type": "code",
   "execution_count": 14,
   "id": "6aca7f79",
   "metadata": {},
   "outputs": [
    {
     "name": "stdout",
     "output_type": "stream",
     "text": [
      "['Name', 'Internal codename', 'Version number(s)', 'Initial stablerelease date', 'Supported(security fixes)', 'API level', 'References']\n"
     ]
    }
   ],
   "source": [
    "header=[]\n",
    "for heading in android_table[0].find_all(\"th\"):\n",
    "    header.append(heading.text[:-1])\n",
    "    \n",
    "print(header)"
   ]
  },
  {
   "cell_type": "code",
   "execution_count": 15,
   "id": "d164b585",
   "metadata": {},
   "outputs": [],
   "source": [
    "table_list=[]\n",
    "table_list.append(header)\n",
    "for row in android_rows:\n",
    "    temp_table=[]\n",
    "    col=row.find_all('td',{})\n",
    "    for cols in col:\n",
    "        temp_table.append(cols.text[:-1])\n",
    "    table_list.append(temp_table)\n",
    "    "
   ]
  },
  {
   "cell_type": "code",
   "execution_count": 16,
   "id": "282f0721",
   "metadata": {},
   "outputs": [
    {
     "name": "stdout",
     "output_type": "stream",
     "text": [
      "[['Name', 'Internal codename', 'Version number(s)', 'Initial stablerelease date', 'Supported(security fixes)', 'API level', 'References'], [], ['Android 1.0', 'N/A', '1.0', 'September 23, 2008', 'No', '1', '[9][14]'], ['Android 1.1', 'Petit Four', '1.1', 'February 9, 2009', 'No', '2', '[9][14][15]'], ['Android Cupcake', 'Cupcake', '1.5', 'April 27, 2009', 'No', '3', '[14][16]'], ['Android Donut', 'Donut', '1.6', 'September 15, 2009', 'No', '4', '[14][17]'], ['Android Eclair', 'Eclair', '2.0', 'October 27, 2009', 'No', '5', '[14][18][19]'], ['2.0.1', 'December 3, 2009', 'No', '6', ''], ['2.1', 'January 11, 2010', 'No', '7', '[20]'], ['Android Froyo', 'Froyo', '2.2 – 2.2.3', 'May 20, 2010', 'No', '8', '[14][21]'], ['Android Gingerbread', 'Gingerbread', '2.3 – 2.3.2', 'December 6, 2010', 'No', '9', '[14][22]'], ['2.3.3 - 2.3.7', 'February 9, 2011', 'No', '10', ''], ['Android Honeycomb', 'Honeycomb', '3.0', 'February 22, 2011', 'No', '11', '[14][23]'], ['3.1', 'May 10, 2011', 'No', '12', ''], ['3.2 - 3.2.6', 'July 15, 2011', 'No', '13', ''], ['Android Ice Cream Sandwich', 'Ice Cream Sandwich', '4.0 – 4.0.2', 'October 18, 2011', 'No', '14', '[14][24]'], ['4.0.3 - 4.0.4', 'December 16, 2011', 'No', '15', ''], ['Android Jelly Bean', 'Jelly Bean', '4.1 – 4.1.2', 'July 9, 2012', 'No', '16', '[14][25]'], ['4.2 - 4.2.2', 'November 13, 2012', 'No', '17', ''], ['4.3 - 4.3.1', 'July 24, 2013', 'No', '18', ''], ['Android KitKat', 'Key Lime Pie', '4.4 – 4.4.4', 'October 31, 2013', 'No', '19', '[14][26]'], ['4.4W - 4.4W.2', 'June 25, 2014', 'No', '20', ''], ['Android Lollipop', 'Lemon Meringue Pie', '5.0 – 5.0.2', 'November 4, 2014', 'No', '21', '[14][27][28]'], ['5.1 - 5.1.1', 'March 2, 2015', 'No', '22', '[29]'], ['Android Marshmallow', 'Macadamia Nut Cookie', '6.0 – 6.0.1', 'October 2, 2015', 'No', '23', '[14][30][31]'], ['Android Nougat', 'New York Cheesecake', '7.0', 'August 22, 2016', 'No', '24', '[14][32][33][34][35]'], ['7.1 - 7.1.2', 'October 4, 2016', 'No', '25', ''], ['Android Oreo', 'Oatmeal Cookie', '8.0', 'August 21, 2017', 'No', '26', '[14][36][37]'], ['8.1', 'December 5, 2017', 'Yes[a]', '27', '[14][38]'], ['Android Pie', '', '9', 'August 6, 2018', 'Yes', '28', '[14][39]'], ['Android 10', 'Quince Tart', '10', 'September 3, 2019', 'Yes', '29', '[14][40][41][42]'], ['Android 11', 'Red Velvet Cake', '11', 'September 8, 2020', 'Yes', '30', '[14][43]'], ['Android 12', 'Snow Cone', '12', 'TBA', 'Presupported', '31', '[14][44]']]\n"
     ]
    }
   ],
   "source": [
    "print(table_list)"
   ]
  },
  {
   "cell_type": "markdown",
   "id": "a06ea452",
   "metadata": {},
   "source": [
    "Now here is a problem that some cells in columns name and internalcode has rowspans\n",
    "So we solve it in next step"
   ]
  },
  {
   "cell_type": "code",
   "execution_count": 48,
   "id": "054399b7",
   "metadata": {},
   "outputs": [],
   "source": [
    "table_list=[]\n",
    "n=len(android_rows)\n",
    "for i in range(n):\n",
    "    table_list.append([])\n",
    "table_list[0]=header[0:-1]\n",
    "for i,row in enumerate(android_rows):\n",
    "    temp_table=[]\n",
    "    col=row.find_all('td',{})\n",
    "    for coindex,cols in enumerate(col):\n",
    "        w=cols.text[:-1]\n",
    "            \n",
    "        temp_table.append(w)\n",
    "        attributes=cols.attrs\n",
    "        #handling Rowspan\n",
    "        if \"rowspan\" in attributes:\n",
    "            for j in range(i+1,i+1+int(attributes[\"rowspan\"])-1):\n",
    "                table_list[j].append(w)\n",
    "    \n",
    "        \n",
    "    table_list[i]+=(temp_table)"
   ]
  },
  {
   "cell_type": "code",
   "execution_count": 49,
   "id": "7037e76d",
   "metadata": {
    "scrolled": true
   },
   "outputs": [
    {
     "name": "stdout",
     "output_type": "stream",
     "text": [
      "[['Name', 'Internal codename', 'Version number(s)', 'Initial stablerelease date', 'Supported(security fixes)', 'API level', 'References'], ['Android 1.0', 'N/A', '1.0', 'September 23, 2008', 'No', '1', '[9][14]'], ['Android 1.1', 'Petit Four', '1.1', 'February 9, 2009', 'No', '2', '[9][14][15]'], ['Android Cupcake', 'Cupcake', '1.5', 'April 27, 2009', 'No', '3', '[14][16]'], ['Android Donut', 'Donut', '1.6', 'September 15, 2009', 'No', '4', '[14][17]'], ['Android Eclair', 'Eclair', '2.0', 'October 27, 2009', 'No', '5', '[14][18][19]'], ['Android Eclair', 'Eclair', '2.0.1', 'December 3, 2009', 'No', '6', ''], ['Android Eclair', 'Eclair', '2.1', 'January 11, 2010', 'No', '7', '[20]'], ['Android Froyo', 'Froyo', '2.2 – 2.2.3', 'May 20, 2010', 'No', '8', '[14][21]'], ['Android Gingerbread', 'Gingerbread', '2.3 – 2.3.2', 'December 6, 2010', 'No', '9', '[14][22]'], ['Android Gingerbread', 'Gingerbread', '2.3.3 - 2.3.7', 'February 9, 2011', 'No', '10', ''], ['Android Honeycomb', 'Honeycomb', '3.0', 'February 22, 2011', 'No', '11', '[14][23]'], ['Android Honeycomb', 'Honeycomb', '3.1', 'May 10, 2011', 'No', '12', ''], ['Android Honeycomb', 'Honeycomb', '3.2 - 3.2.6', 'July 15, 2011', 'No', '13', ''], ['Android Ice Cream Sandwich', 'Ice Cream Sandwich', '4.0 – 4.0.2', 'October 18, 2011', 'No', '14', '[14][24]'], ['Android Ice Cream Sandwich', 'Ice Cream Sandwich', '4.0.3 - 4.0.4', 'December 16, 2011', 'No', '15', ''], ['Android Jelly Bean', 'Jelly Bean', '4.1 – 4.1.2', 'July 9, 2012', 'No', '16', '[14][25]'], ['Android Jelly Bean', 'Jelly Bean', '4.2 - 4.2.2', 'November 13, 2012', 'No', '17', ''], ['Android Jelly Bean', 'Jelly Bean', '4.3 - 4.3.1', 'July 24, 2013', 'No', '18', ''], ['Android KitKat', 'Key Lime Pie', '4.4 – 4.4.4', 'October 31, 2013', 'No', '19', '[14][26]'], ['Android KitKat', 'Key Lime Pie', '4.4W - 4.4W.2', 'June 25, 2014', 'No', '20', ''], ['Android Lollipop', 'Lemon Meringue Pie', '5.0 – 5.0.2', 'November 4, 2014', 'No', '21', '[14][27][28]'], ['Android Lollipop', 'Lemon Meringue Pie', '5.1 - 5.1.1', 'March 2, 2015', 'No', '22', '[29]'], ['Android Marshmallow', 'Macadamia Nut Cookie', '6.0 – 6.0.1', 'October 2, 2015', 'No', '23', '[14][30][31]'], ['Android Nougat', 'New York Cheesecake', '7.0', 'August 22, 2016', 'No', '24', '[14][32][33][34][35]'], ['Android Nougat', 'New York Cheesecake', '7.1 - 7.1.2', 'October 4, 2016', 'No', '25', ''], ['Android Oreo', 'Oatmeal Cookie', '8.0', 'August 21, 2017', 'No', '26', '[14][36][37]'], ['Android Oreo', 'Oatmeal Cookie', '8.1', 'December 5, 2017', 'Yes[a]', '27', '[14][38]'], ['Android Pie', '', '9', 'August 6, 2018', 'Yes', '28', '[14][39]'], ['Android 10', 'Quince Tart', '10', 'September 3, 2019', 'Yes', '29', '[14][40][41][42]'], ['Android 11', 'Red Velvet Cake', '11', 'September 8, 2020', 'Yes', '30', '[14][43]'], ['Android 12', 'Snow Cone', '12', 'TBA', 'Presupported', '31', '[14][44]']]\n"
     ]
    }
   ],
   "source": [
    "print(table_list)"
   ]
  },
  {
   "cell_type": "markdown",
   "id": "4cd71121",
   "metadata": {},
   "source": [
    "Remove \",\" from date columns and Write data in Csv"
   ]
  },
  {
   "cell_type": "code",
   "execution_count": 50,
   "id": "8ccf086c",
   "metadata": {},
   "outputs": [],
   "source": [
    "with open(\"output.csv\",\"w+\",encoding=\"UTF-8\") as f:\n",
    "    string=\"\"\n",
    "    for rows in table_list:\n",
    "        for w in rows:\n",
    "            w=w.replace(\",\",\"\")\n",
    "            string+=w+','\n",
    "        string=string[:-1]\n",
    "        string+=\"\\n\"\n",
    "    f.write(string)\n"
   ]
  },
  {
   "cell_type": "code",
   "execution_count": 51,
   "id": "fad5a42a",
   "metadata": {},
   "outputs": [],
   "source": [
    "import pandas as pd"
   ]
  },
  {
   "cell_type": "code",
   "execution_count": 52,
   "id": "626754b1",
   "metadata": {},
   "outputs": [],
   "source": [
    "data=pd.read_csv(\"output.csv\",)"
   ]
  },
  {
   "cell_type": "code",
   "execution_count": 57,
   "id": "b45a8379",
   "metadata": {},
   "outputs": [
    {
     "data": {
      "text/html": [
       "<div>\n",
       "<style scoped>\n",
       "    .dataframe tbody tr th:only-of-type {\n",
       "        vertical-align: middle;\n",
       "    }\n",
       "\n",
       "    .dataframe tbody tr th {\n",
       "        vertical-align: top;\n",
       "    }\n",
       "\n",
       "    .dataframe thead th {\n",
       "        text-align: right;\n",
       "    }\n",
       "</style>\n",
       "<table border=\"1\" class=\"dataframe\">\n",
       "  <thead>\n",
       "    <tr style=\"text-align: right;\">\n",
       "      <th></th>\n",
       "      <th>Name</th>\n",
       "      <th>Internal codename</th>\n",
       "      <th>Version number(s)</th>\n",
       "      <th>Initial stablerelease date</th>\n",
       "      <th>Supported(security fixes)</th>\n",
       "      <th>API level</th>\n",
       "      <th>References</th>\n",
       "    </tr>\n",
       "  </thead>\n",
       "  <tbody>\n",
       "    <tr>\n",
       "      <th>0</th>\n",
       "      <td>Android 1.0</td>\n",
       "      <td>NaN</td>\n",
       "      <td>1.0</td>\n",
       "      <td>September 23 2008</td>\n",
       "      <td>No</td>\n",
       "      <td>1</td>\n",
       "      <td>[9][14]</td>\n",
       "    </tr>\n",
       "    <tr>\n",
       "      <th>1</th>\n",
       "      <td>Android 1.1</td>\n",
       "      <td>Petit Four</td>\n",
       "      <td>1.1</td>\n",
       "      <td>February 9 2009</td>\n",
       "      <td>No</td>\n",
       "      <td>2</td>\n",
       "      <td>[9][14][15]</td>\n",
       "    </tr>\n",
       "    <tr>\n",
       "      <th>2</th>\n",
       "      <td>Android Cupcake</td>\n",
       "      <td>Cupcake</td>\n",
       "      <td>1.5</td>\n",
       "      <td>April 27 2009</td>\n",
       "      <td>No</td>\n",
       "      <td>3</td>\n",
       "      <td>[14][16]</td>\n",
       "    </tr>\n",
       "    <tr>\n",
       "      <th>3</th>\n",
       "      <td>Android Donut</td>\n",
       "      <td>Donut</td>\n",
       "      <td>1.6</td>\n",
       "      <td>September 15 2009</td>\n",
       "      <td>No</td>\n",
       "      <td>4</td>\n",
       "      <td>[14][17]</td>\n",
       "    </tr>\n",
       "    <tr>\n",
       "      <th>4</th>\n",
       "      <td>Android Eclair</td>\n",
       "      <td>Eclair</td>\n",
       "      <td>2.0</td>\n",
       "      <td>October 27 2009</td>\n",
       "      <td>No</td>\n",
       "      <td>5</td>\n",
       "      <td>[14][18][19]</td>\n",
       "    </tr>\n",
       "    <tr>\n",
       "      <th>5</th>\n",
       "      <td>Android Eclair</td>\n",
       "      <td>Eclair</td>\n",
       "      <td>2.0.1</td>\n",
       "      <td>December 3 2009</td>\n",
       "      <td>No</td>\n",
       "      <td>6</td>\n",
       "      <td>NaN</td>\n",
       "    </tr>\n",
       "    <tr>\n",
       "      <th>6</th>\n",
       "      <td>Android Eclair</td>\n",
       "      <td>Eclair</td>\n",
       "      <td>2.1</td>\n",
       "      <td>January 11 2010</td>\n",
       "      <td>No</td>\n",
       "      <td>7</td>\n",
       "      <td>[20]</td>\n",
       "    </tr>\n",
       "    <tr>\n",
       "      <th>7</th>\n",
       "      <td>Android Froyo</td>\n",
       "      <td>Froyo</td>\n",
       "      <td>2.2 – 2.2.3</td>\n",
       "      <td>May 20 2010</td>\n",
       "      <td>No</td>\n",
       "      <td>8</td>\n",
       "      <td>[14][21]</td>\n",
       "    </tr>\n",
       "    <tr>\n",
       "      <th>8</th>\n",
       "      <td>Android Gingerbread</td>\n",
       "      <td>Gingerbread</td>\n",
       "      <td>2.3 – 2.3.2</td>\n",
       "      <td>December 6 2010</td>\n",
       "      <td>No</td>\n",
       "      <td>9</td>\n",
       "      <td>[14][22]</td>\n",
       "    </tr>\n",
       "    <tr>\n",
       "      <th>9</th>\n",
       "      <td>Android Gingerbread</td>\n",
       "      <td>Gingerbread</td>\n",
       "      <td>2.3.3 - 2.3.7</td>\n",
       "      <td>February 9 2011</td>\n",
       "      <td>No</td>\n",
       "      <td>10</td>\n",
       "      <td>NaN</td>\n",
       "    </tr>\n",
       "  </tbody>\n",
       "</table>\n",
       "</div>"
      ],
      "text/plain": [
       "                  Name Internal codename Version number(s)  \\\n",
       "0          Android 1.0               NaN               1.0   \n",
       "1          Android 1.1        Petit Four               1.1   \n",
       "2      Android Cupcake           Cupcake               1.5   \n",
       "3        Android Donut             Donut               1.6   \n",
       "4       Android Eclair            Eclair               2.0   \n",
       "5       Android Eclair            Eclair             2.0.1   \n",
       "6       Android Eclair            Eclair               2.1   \n",
       "7        Android Froyo             Froyo       2.2 – 2.2.3   \n",
       "8  Android Gingerbread       Gingerbread       2.3 – 2.3.2   \n",
       "9  Android Gingerbread       Gingerbread     2.3.3 - 2.3.7   \n",
       "\n",
       "  Initial stablerelease date Supported(security fixes)  API level  \\\n",
       "0          September 23 2008                        No          1   \n",
       "1            February 9 2009                        No          2   \n",
       "2              April 27 2009                        No          3   \n",
       "3          September 15 2009                        No          4   \n",
       "4            October 27 2009                        No          5   \n",
       "5            December 3 2009                        No          6   \n",
       "6            January 11 2010                        No          7   \n",
       "7                May 20 2010                        No          8   \n",
       "8            December 6 2010                        No          9   \n",
       "9            February 9 2011                        No         10   \n",
       "\n",
       "     References  \n",
       "0       [9][14]  \n",
       "1   [9][14][15]  \n",
       "2      [14][16]  \n",
       "3      [14][17]  \n",
       "4  [14][18][19]  \n",
       "5           NaN  \n",
       "6          [20]  \n",
       "7      [14][21]  \n",
       "8      [14][22]  \n",
       "9           NaN  "
      ]
     },
     "execution_count": 57,
     "metadata": {},
     "output_type": "execute_result"
    }
   ],
   "source": [
    "data.head(10)"
   ]
  },
  {
   "cell_type": "code",
   "execution_count": null,
   "id": "af465644",
   "metadata": {},
   "outputs": [],
   "source": []
  }
 ],
 "metadata": {
  "kernelspec": {
   "display_name": "Python 3 (ipykernel)",
   "language": "python",
   "name": "python3"
  },
  "language_info": {
   "codemirror_mode": {
    "name": "ipython",
    "version": 3
   },
   "file_extension": ".py",
   "mimetype": "text/x-python",
   "name": "python",
   "nbconvert_exporter": "python",
   "pygments_lexer": "ipython3",
   "version": "3.7.3"
  }
 },
 "nbformat": 4,
 "nbformat_minor": 5
}
